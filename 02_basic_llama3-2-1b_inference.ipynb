{
 "cells": [
  {
   "cell_type": "markdown",
   "id": "43e28357-eea5-424b-8dda-11d8555eadc9",
   "metadata": {},
   "source": [
    "# Llama 3.2 1B 모델 추론 (EndPoint Deployment)\n",
    "## 추론방법 2: Endpoint Name에서 찾아와 추론."
   ]
  },
  {
   "cell_type": "code",
   "execution_count": 1,
   "id": "dacfc706-3cb7-4a49-9305-ad4720b12815",
   "metadata": {},
   "outputs": [],
   "source": [
    "import boto3\n",
    "import json\n"
   ]
  },
  {
   "cell_type": "code",
   "execution_count": 2,
   "id": "8a7c4219-9500-4f1b-94e8-ccd2ca0c7dfe",
   "metadata": {},
   "outputs": [
    {
     "name": "stdout",
     "output_type": "stream",
     "text": [
      "/bin/bash: line 1: jq: command not found\n",
      "Exception ignored in: <_io.TextIOWrapper name='<stdout>' mode='w' encoding='utf-8'>\n",
      "BrokenPipeError: [Errno 32] Broken pipe\n"
     ]
    }
   ],
   "source": [
    "# endpoint list 조회\n",
    "!aws sagemaker list-endpoints   --name-contains \"llama\"   --output json | jq -r '.Endpoints[].EndpointName'"
   ]
  },
  {
   "cell_type": "code",
   "execution_count": 12,
   "id": "899fb7ba-a7d7-4621-9774-e7dc1b837b42",
   "metadata": {},
   "outputs": [],
   "source": [
    "\n",
    "# SageMaker Runtime 클라이언트 생성\n",
    "sagemaker_runtime = boto3.client('sagemaker-runtime', region_name='us-west-2')\n",
    "\n",
    "\n",
    "# 엔드포인트 이름\n",
    "endpoint_name = \"basic-jumpstart-deploy-llama3-2-1b-01\""
   ]
  },
  {
   "cell_type": "markdown",
   "id": "2733f0be-90c9-455e-ae54-3c355f9fae69",
   "metadata": {},
   "source": [
    "## 데이터 준비\n",
    "추론을 위한 데이터 준비. llama 포맷에 맞추기 위한 템플릿과 모델 파라미터 설정"
   ]
  },
  {
   "cell_type": "code",
   "execution_count": 16,
   "id": "f810ca70-40ed-49ee-8389-1f65f3a3e3eb",
   "metadata": {},
   "outputs": [],
   "source": [
    "def test(question):  \n",
    "    template = \"\"\"\n",
    "    <|begin_of_text|><|start_header_id|>user<|end_header_id|>\\n{instruction}<|eot_id|><|start_header_id|>assistant<|end_header_id|>\\n\\n\n",
    "    \"\"\"\n",
    "    prompt = template.format(instruction=question)\n",
    "\n",
    "    generation_config = {\n",
    "        \"max_new_tokens\": 256,\n",
    "        \"eos_token_id\": 128009,          # Llama 3.2 공식 EOS 토큰[1][3]\n",
    "        \"pad_token_id\": 128009,          # 패딩 토큰 통일[4]\n",
    "        \"repetition_penalty\": 1.2,       # 반복 문구 억제[3]\n",
    "        \"temperature\": 0.6,    \n",
    "        \"do_sample\": True,\n",
    "        \"top_p\": 0.9,\n",
    "        # 'details': True,\n",
    "    }\n",
    "    \n",
    "    prompt_payload = {\n",
    "        'inputs':prompt,\n",
    "        'parameters': generation_config\n",
    "    }\n",
    "\n",
    "    \n",
    "    # JSON 형식으로 데이터 직렬화\n",
    "    payload = json.dumps(prompt_payload)\n",
    "    \n",
    "    # 엔드포인트 호출\n",
    "    response = sagemaker_runtime.invoke_endpoint(\n",
    "        EndpointName=endpoint_name,  # 엔드포인트 이름\n",
    "        Body=payload,               # 입력 데이터\n",
    "        ContentType='application/json'  # 데이터 형식\n",
    "    )\n",
    "    \n",
    "    # 응답 처리\n",
    "    result = json.loads(response['Body'].read().decode('utf-8'))\n",
    "    print(\"Model Response:\", result['generated_text'])\n"
   ]
  },
  {
   "cell_type": "markdown",
   "id": "646ef1d9-ddef-4029-bbfa-cdcc4f6f55a4",
   "metadata": {},
   "source": [
    "## 추론 테스트"
   ]
  },
  {
   "cell_type": "code",
   "execution_count": 17,
   "id": "51a3f676-c5ef-43a6-bfc1-9a69cc8ebb20",
   "metadata": {},
   "outputs": [
    {
     "name": "stdout",
     "output_type": "stream",
     "text": [
      "Model Response:  오마이널\n"
     ]
    }
   ],
   "source": [
    "test(\"너의 이름은 무엇이야?\")"
   ]
  },
  {
   "cell_type": "code",
   "execution_count": 19,
   "id": "834dca67-250d-40af-a24d-136986abf461",
   "metadata": {},
   "outputs": [
    {
     "name": "stdout",
     "output_type": "stream",
     "text": [
      "Model Response:  에이미\n"
     ]
    }
   ],
   "source": [
    "test(\"너의 이름은 무엇이야?\")"
   ]
  },
  {
   "cell_type": "code",
   "execution_count": 18,
   "id": "5188d4f0-3c43-44e7-b3f9-af3f81bc9634",
   "metadata": {},
   "outputs": [
    {
     "name": "stdout",
     "output_type": "stream",
     "text": [
      "Model Response:  천연로 염색하는 방법에 대한 정보는 약 1000년 이상 전부터 존재합니다. 천연염색제의 개발과 사용은 다양한 시기에서 발생하여, 현재까지 다양한 종류가 존재합니다.\n",
      "\n",
      "1.  **산화 수소 (Sodium Metaphenoxide)** : 산화수소를 혼합한 물질을 이용해 염색한다.\n",
      "2.  **산화chlور인스 (Chloroform Oxalate) :** 산화chlorinated 수소와 함께 엄Absolutely 화학적 성분입니다.\n",
      "3.  **포유사료 (Borax)**: 포유사료를 불aab라 하여 염색할 수 있습니다. 이 proceso에서는 해부학적으로 피부에 들어간 Boron을 바탕으로 포유사료의 고체 형태로 transformed 한 수소 화합물, Boric acid을 제거하는 process도 필요하므로 보통 Boric Acid를 사용하지 않습니다. \n",
      "\n",
      "    Boric Acid은 알루민이나 가공식용재료 등에 사용될 때 부정상적인 효과가 있어, 이 용기를 사용하기보다는 B5(카페아민)\n"
     ]
    }
   ],
   "source": [
    "test(\"천연으로 염색하고 싶은데 지속이 꽤 되나요?\")"
   ]
  },
  {
   "cell_type": "code",
   "execution_count": null,
   "id": "569f5b11-34ca-4ed6-ba34-10f90d515fec",
   "metadata": {},
   "outputs": [],
   "source": []
  },
  {
   "cell_type": "code",
   "execution_count": null,
   "id": "ed6ebe47-9513-481a-bf2f-90622e1a60bc",
   "metadata": {},
   "outputs": [],
   "source": []
  }
 ],
 "metadata": {
  "kernelspec": {
   "display_name": "Python 3 (ipykernel)",
   "language": "python",
   "name": "python3"
  },
  "language_info": {
   "codemirror_mode": {
    "name": "ipython",
    "version": 3
   },
   "file_extension": ".py",
   "mimetype": "text/x-python",
   "name": "python",
   "nbconvert_exporter": "python",
   "pygments_lexer": "ipython3",
   "version": "3.11.11"
  }
 },
 "nbformat": 4,
 "nbformat_minor": 5
}
