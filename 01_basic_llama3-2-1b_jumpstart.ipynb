{
 "cells": [
  {
   "cell_type": "markdown",
   "id": "ab3893e9-5fa3-4ba9-b114-d4cf10847455",
   "metadata": {},
   "source": [
    "# JumpStart로 시작하는 Llama 3.2 1B 배포 (Deployment)\n",
    "- JumpStart에 Prebuild 되어 있는 Llama 3.2 1B Instruction 모델을 가져 옵니다.\n",
    "- 이 때, EULA에 동의하는 `accept_eula=True` 설정을 해 주어야 합니다. "
   ]
  },
  {
   "cell_type": "code",
   "execution_count": 1,
   "id": "efec8cea-6da4-4a41-9be5-d674a9bf20dc",
   "metadata": {},
   "outputs": [],
   "source": [
    "import warnings\n",
    "warnings.filterwarnings(action='ignore') # 경고 메시지를 무시"
   ]
  },
  {
   "cell_type": "code",
   "execution_count": 2,
   "id": "8c4689c8-25c1-43fd-95ab-94371a6cafe9",
   "metadata": {},
   "outputs": [
    {
     "name": "stdout",
     "output_type": "stream",
     "text": [
      "sagemaker.config INFO - Not applying SDK defaults from location: /etc/xdg/sagemaker/config.yaml\n",
      "sagemaker.config INFO - Not applying SDK defaults from location: /home/sagemaker-user/.config/sagemaker/config.yaml\n"
     ]
    }
   ],
   "source": [
    "from sagemaker.jumpstart.model import JumpStartModel\n",
    "\n",
    "model_id, model_version = \"meta-textgeneration-llama-3-2-1b-instruct\", \"*\"\n",
    "accept_eula = True\n",
    "instance_type='ml.g6.xlarge' # Default \n",
    "endpoint_name='basic-jumpstart-deploy-llama3-2-1b-01' # 원하는 명칭으로... ('_' 허용하지 않음)"
   ]
  },
  {
   "cell_type": "markdown",
   "id": "bf57318e-e82d-4d56-86ba-c6bb91501d28",
   "metadata": {},
   "source": [
    "위에서는 다음에 사용될 설정들을 미리 변수로 지정 하였습니다. \n",
    "\n",
    "이제 JumpStartModel을 로딩합니다.\n",
    "- model_id와 버전을 위 변수에 세팅한것과 같이 설정 해 줍니다.\n",
    "- 인스턴스는 `instance_type=\"ml.g6.xlarge\"`이 기본 값입니다. 설정을 안해도 됩니다."
   ]
  },
  {
   "cell_type": "code",
   "execution_count": 3,
   "id": "d6718797-9f06-4915-860a-845c54df1c60",
   "metadata": {},
   "outputs": [
    {
     "name": "stderr",
     "output_type": "stream",
     "text": [
      "Using model 'meta-textgeneration-llama-3-2-1b-instruct' with wildcard version identifier '*'. You can pin to version '1.2.1' for more stable results. Note that models may have different input/output signatures after a major version upgrade.\n"
     ]
    }
   ],
   "source": [
    "model = JumpStartModel(model_id=model_id, model_version=model_version, instance_type=instance_type)"
   ]
  },
  {
   "cell_type": "markdown",
   "id": "4e6d8f9a-204c-40b8-8a57-55edfeef5834",
   "metadata": {},
   "source": [
    "가장 단순하게는 `predictor = model.deploy()`만으로 실행 가능합니다. (기본설정 사용)\n",
    "- 그러나, llama 3.2 경우, EULA 동의를 필요로 하기 때문에, `predictor = model.deploy(accept_eula=accept_eula)`가 최소 사항\n",
    "- 추가적으로 `endpoint_name` 정도 추가 지정이 가능합니다."
   ]
  },
  {
   "cell_type": "code",
   "execution_count": 4,
   "id": "5a5ac52c-1622-4d60-a7cd-aaf07a3744dd",
   "metadata": {},
   "outputs": [
    {
     "name": "stdout",
     "output_type": "stream",
     "text": [
      "------------!"
     ]
    }
   ],
   "source": [
    "predictor = model.deploy(accept_eula=accept_eula, endpoint_name=endpoint_name)"
   ]
  },
  {
   "cell_type": "markdown",
   "id": "44f2a62f-c91c-44dc-8e03-d4a8f4b63763",
   "metadata": {},
   "source": [
    "# 추론 (Inference) \n",
    "이제 Llama 3.2 1B 모델이 배포 되었습니다. 이제 추론을 테스트 해 볼 예정입니다. \n",
    "- 추론은 크게 2가지 방법으로 테스트 할 수 있습니다. \n",
    "- 1/ predictor에 직접 호출 하는 방법\n",
    "- 2/ 실제 외부에서 network로 API 호출하는 방법\n"
   ]
  },
  {
   "cell_type": "markdown",
   "id": "ab985bc8-fe63-4119-abec-733e0eb70c7e",
   "metadata": {},
   "source": [
    "\n",
    "## 1. 데이터 포맷\n",
    "Llama 3.2는 훈련/추론 할 때 **특정 데이터 포맷** 형태로 이루어져 있고, 이 포맷을 엄격하게 따라야 합니다. 대략적인 데이터 포맷은, prompt 문장에서 `각 세그먼트를 구분하는 스페셜 토큰들`이 포함되어 있다는 점 입니다. \n",
    "다음은 사용되는 스페셜 토큰들 입니다. \n",
    "- `<|begin_of_text|>` : 프름프트의 시작\n",
    "- `<|start_header_id|>` , `<|end_header_id|>` : Role을 지정할 때 사용. ex) `<|start_header_id|>system<|end_header_id|>`\n",
    "- `<|eot_id|>` : 하나의 역할이 종료되었음을 알림. 종료 메세지.\n",
    "\n",
    "### 템플릿\n",
    "이러한 데이터 포맷에 따르도록 템플릿을 생성하고, 해당 템플릿에 instruction일 채워 넣음\n",
    "```python\n",
    "<|begin_of_text|><|start_header_id|>user<|end_header_id|>\\n\n",
    "{instruction}<|eot_id|>\n",
    "<|start_header_id|>assistant<|end_header_id|>\\n\\n\n",
    "```\n",
    "LLM의 특성 상, 위 문자열은 자연스럽게 다음 문장을 작성하기 위해, Assistant의 Response를 요구함.\n"
   ]
  },
  {
   "cell_type": "code",
   "execution_count": 5,
   "id": "265be88c-9bd5-4ed4-aa99-e8c4a571e7c8",
   "metadata": {},
   "outputs": [],
   "source": [
    "llama_template_train = \"\"\"\n",
    "<|begin_of_text|><|start_header_id|>system<|end_header_id|>\n",
    "You are a helpful assistant<|eot_id|><|start_header_id|>user<|end_header_id|>\n",
    "{instruction}<|eot_id|><|start_header_id|>assistant<|end_header_id|>\n",
    "{response}<|eot_id|>\n",
    "\"\"\"\n",
    "llama_template_inference = \"\"\"\n",
    "<|begin_of_text|><|start_header_id|>user<|end_header_id|>\\n{instruction}<|eot_id|><|start_header_id|>assistant<|end_header_id|>\\n\\n\n",
    "\"\"\""
   ]
  },
  {
   "cell_type": "markdown",
   "id": "d70ba459-4522-459c-91aa-9d8e2c371b81",
   "metadata": {},
   "source": [
    "## 2. config\n",
    "궁극적으로 지금의 추론 단계는 `predictor.predict()`을 수행하는 것을 목적으로 한다. 이 때 predict()함수는 전송형태 (dict)의 페이로드를 요구한다. \n",
    "- payload는 `{ \"inputs\" : \"프롬프트 포맷\", \"parameters\": {추론 파라미터들} }` 형태에 따른다.\n",
    "- 가장 단순한 예는 다음과 같다. (여기서 prompt는 프롬프트 포맷 형태의 문자열이다.)\n",
    "```\n",
    "prompt_payload = {\n",
    "    'inputs':prompt,\n",
    "    'parameters': {'max_new_tokens': 256, 'top_p': 0.9,'temperature': 0.6, 'details': True}\n",
    "}\n",
    "response = predictor.predict(prompt_payload)"
   ]
  },
  {
   "cell_type": "code",
   "execution_count": 6,
   "id": "8828fa81-ec75-4de7-b45c-cfe6a8076e42",
   "metadata": {},
   "outputs": [],
   "source": [
    "prompt = llama_template_inference.format(instruction=\"AWS Sagemaker에 대해 소개해 주세요. \")\n",
    "prompt_payload = {\n",
    "    'inputs':prompt,\n",
    "    'parameters': {'max_new_tokens': 256, 'top_p': 0.9,'temperature': 0.6, 'details': True}\n",
    "}"
   ]
  },
  {
   "cell_type": "code",
   "execution_count": 7,
   "id": "2bc9b840-04a6-4c37-b9da-4adfdd5bd84f",
   "metadata": {},
   "outputs": [],
   "source": [
    "response = predictor.predict(prompt_payload)"
   ]
  },
  {
   "cell_type": "code",
   "execution_count": 8,
   "id": "1830e51e-38e0-4543-978f-7dc806dfa4d0",
   "metadata": {},
   "outputs": [
    {
     "data": {
      "text/plain": [
       "{'generated_text': 'AWS Sagemaker는 AWS의 cloud-based machine learning (ML)aaS (Application Service for Machine Learning) 플랫폼입니다. AWS Sagemaker는 MLaaS를 제공하는 AWS의 cloud-based ML 플랫폼 중 하나입니다. AWS Sagemaker는 MLaaS를 사용하여 ML 모델을 배포, 배포, 유지, 및 확장할 수 있는 플랫폼입니다. \\n\\nAWS Sagemaker는 ML 모델을 배포, 배포, 유지, 및 확장할 수 있는 플랫폼으로, ML 모델을 배포, 배포, 유지, 및 확장할 수 있는 플랫폼입니다. AWS Sagemaker는 ML 모델을 배포, 배포, 유지, 및 확장할 수 있는 플랫폼으로, ML 모델을 배포, 배포, 유지, 및 확장할 수 있는 플랫폼입니다.\\n\\nAWS Sagemaker는 MLaaS를 사용하여 ML 모델을 배포, 배포, 유지, 및 확장할 수 있는 플랫폼으로, ML 모델을 배포, 배포, 유지, 및 확장할 수 있는 플랫폼으로, ML 모델을 배포, 배포, 유지, 및 확',\n",
       " 'details': {'finish_reason': 'length',\n",
       "  'generated_tokens': 256,\n",
       "  'inputs': '\\n<|begin_of_text|><|start_header_id|>user<|end_header_id|>\\nAWS Sagemaker에 대해 소개해 주세요. <|eot_id|><|start_header_id|>assistant<|end_header_id|>\\n\\n\\n',\n",
       "  'tokens': [{'id': 37236, 'text': 'AWS', 'log_prob': -0.024860398843884468},\n",
       "   {'id': 328, 'text': ' S', 'log_prob': -0.2083704173564911},\n",
       "   {'id': 15003, 'text': 'agem', 'log_prob': -0.005484296474605799},\n",
       "   {'id': 4506, 'text': 'aker', 'log_prob': -0.0010384886991232634},\n",
       "   {'id': 16969, 'text': '는', 'log_prob': -1.0327988862991333},\n",
       "   {'id': 24124, 'text': ' AWS', 'log_prob': -0.8015270233154297},\n",
       "   {'id': 21028, 'text': '의', 'log_prob': -1.4448864459991455},\n",
       "   {'id': 9624, 'text': ' cloud', 'log_prob': -2.833911895751953},\n",
       "   {'id': 6108, 'text': '-based', 'log_prob': -1.323361873626709},\n",
       "   {'id': 5780, 'text': ' machine', 'log_prob': -1.8863818645477295},\n",
       "   {'id': 6975, 'text': ' learning', 'log_prob': -0.017392732203006744},\n",
       "   {'id': 320, 'text': ' (', 'log_prob': -0.34847360849380493},\n",
       "   {'id': 2735, 'text': 'ML', 'log_prob': -0.041065115481615067},\n",
       "   {'id': 8, 'text': ')', 'log_prob': -0.017924116924405098},\n",
       "   {'id': 65710, 'text': 'aaS', 'log_prob': -1.6087367534637451},\n",
       "   {'id': 320, 'text': ' (', 'log_prob': -0.21225474774837494},\n",
       "   {'id': 5095, 'text': 'Application', 'log_prob': -0.7859694361686707},\n",
       "   {'id': 5475, 'text': ' Service', 'log_prob': -0.11058172583580017},\n",
       "   {'id': 369, 'text': ' for', 'log_prob': -0.1635313332080841},\n",
       "   {'id': 13257, 'text': ' Machine', 'log_prob': -0.04822877049446106},\n",
       "   {'id': 21579, 'text': ' Learning', 'log_prob': -0.003570611821487546},\n",
       "   {'id': 8, 'text': ')', 'log_prob': -0.14870275557041168},\n",
       "   {'id': 107375, 'text': ' 플', 'log_prob': -1.8489820957183838},\n",
       "   {'id': 124689, 'text': '랫', 'log_prob': -0.06178697943687439},\n",
       "   {'id': 100796, 'text': '', 'log_prob': -0.024575233459472656},\n",
       "   {'id': 120, 'text': '폼', 'log_prob': -0.02115296944975853},\n",
       "   {'id': 80052, 'text': '입니다', 'log_prob': -0.5426967740058899},\n",
       "   {'id': 13, 'text': '.', 'log_prob': -0.01294153742492199},\n",
       "   {'id': 24124, 'text': ' AWS', 'log_prob': -1.515681505203247},\n",
       "   {'id': 328, 'text': ' S', 'log_prob': -0.09340211749076843},\n",
       "   {'id': 15003, 'text': 'agem', 'log_prob': -0.0002632986579556018},\n",
       "   {'id': 4506, 'text': 'aker', 'log_prob': -0.00025817399728111923},\n",
       "   {'id': 16969, 'text': '는', 'log_prob': -0.8828316926956177},\n",
       "   {'id': 20187, 'text': ' ML', 'log_prob': -1.7438673973083496},\n",
       "   {'id': 65710, 'text': 'aaS', 'log_prob': -2.7880775928497314},\n",
       "   {'id': 18918, 'text': '를', 'log_prob': -1.6602325439453125},\n",
       "   {'id': 108273, 'text': ' 제공', 'log_prob': -2.343935251235962},\n",
       "   {'id': 44005, 'text': '하는', 'log_prob': -0.876617431640625},\n",
       "   {'id': 24124, 'text': ' AWS', 'log_prob': -1.462441086769104},\n",
       "   {'id': 21028, 'text': '의', 'log_prob': -0.8347440958023071},\n",
       "   {'id': 9624, 'text': ' cloud', 'log_prob': -1.9677520990371704},\n",
       "   {'id': 6108, 'text': '-based', 'log_prob': -0.8733904957771301},\n",
       "   {'id': 20187, 'text': ' ML', 'log_prob': -0.9896923303604126},\n",
       "   {'id': 107375, 'text': ' 플', 'log_prob': -0.6065336465835571},\n",
       "   {'id': 124689, 'text': '랫', 'log_prob': -0.011636713519692421},\n",
       "   {'id': 100796, 'text': '', 'log_prob': -0.006830911617726088},\n",
       "   {'id': 120, 'text': '폼', 'log_prob': -0.007179769221693277},\n",
       "   {'id': 72043, 'text': ' 중', 'log_prob': -0.6637380123138428},\n",
       "   {'id': 105454, 'text': ' 하나', 'log_prob': -0.15421777963638306},\n",
       "   {'id': 80052, 'text': '입니다', 'log_prob': -0.5518776178359985},\n",
       "   {'id': 13, 'text': '.', 'log_prob': -0.16525593400001526},\n",
       "   {'id': 24124, 'text': ' AWS', 'log_prob': -1.5831432342529297},\n",
       "   {'id': 328, 'text': ' S', 'log_prob': -0.02338753081858158},\n",
       "   {'id': 15003, 'text': 'agem', 'log_prob': -0.00012766500003635883},\n",
       "   {'id': 4506, 'text': 'aker', 'log_prob': -0.0001357701694360003},\n",
       "   {'id': 16969, 'text': '는', 'log_prob': -0.5336474180221558},\n",
       "   {'id': 20187, 'text': ' ML', 'log_prob': -1.219119668006897},\n",
       "   {'id': 65710, 'text': 'aaS', 'log_prob': -2.3589251041412354},\n",
       "   {'id': 18918, 'text': '를', 'log_prob': -0.8121410608291626},\n",
       "   {'id': 41820, 'text': ' 사용', 'log_prob': -1.0843064785003662},\n",
       "   {'id': 83290, 'text': '하여', 'log_prob': -0.34234270453453064},\n",
       "   {'id': 20187, 'text': ' ML', 'log_prob': -2.546095132827759},\n",
       "   {'id': 122180, 'text': ' 모델', 'log_prob': -2.1223268508911133},\n",
       "   {'id': 18359, 'text': '을', 'log_prob': -0.3065224289894104},\n",
       "   {'id': 74769, 'text': ' 배', 'log_prob': -2.7631452083587646},\n",
       "   {'id': 101796, 'text': '포', 'log_prob': -0.7192710041999817},\n",
       "   {'id': 11, 'text': ',', 'log_prob': -0.5857719779014587},\n",
       "   {'id': 74769, 'text': ' 배', 'log_prob': -2.8354649543762207},\n",
       "   {'id': 101796, 'text': '포', 'log_prob': -1.0081110000610352},\n",
       "   {'id': 11, 'text': ',', 'log_prob': -0.24912051856517792},\n",
       "   {'id': 124208, 'text': ' 유지', 'log_prob': -2.874976396560669},\n",
       "   {'id': 11, 'text': ',', 'log_prob': -1.005887746810913},\n",
       "   {'id': 101824, 'text': ' 및', 'log_prob': -2.482469081878662},\n",
       "   {'id': 103686, 'text': ' 확', 'log_prob': -2.463285446166992},\n",
       "   {'id': 41953, 'text': '장', 'log_prob': -0.07045608758926392},\n",
       "   {'id': 48936, 'text': '할', 'log_prob': -1.137305736541748},\n",
       "   {'id': 29833, 'text': ' 수', 'log_prob': -0.02781251259148121},\n",
       "   {'id': 65621, 'text': ' 있는', 'log_prob': -1.1522685289382935},\n",
       "   {'id': 107375, 'text': ' 플', 'log_prob': -3.169175624847412},\n",
       "   {'id': 124689, 'text': '랫', 'log_prob': -0.10548973083496094},\n",
       "   {'id': 100796, 'text': '', 'log_prob': -0.008173114620149136},\n",
       "   {'id': 120, 'text': '폼', 'log_prob': -0.0034857960417866707},\n",
       "   {'id': 80052, 'text': '입니다', 'log_prob': -0.4901283085346222},\n",
       "   {'id': 13, 'text': '.', 'log_prob': -0.7068868279457092},\n",
       "   {'id': 4815, 'text': ' \\n\\n', 'log_prob': -1.2928249835968018},\n",
       "   {'id': 37236, 'text': 'AWS', 'log_prob': -0.7267810702323914},\n",
       "   {'id': 328, 'text': ' S', 'log_prob': -0.006493658293038607},\n",
       "   {'id': 15003, 'text': 'agem', 'log_prob': -9.476689592702314e-05},\n",
       "   {'id': 4506, 'text': 'aker', 'log_prob': -0.00011264643399044871},\n",
       "   {'id': 16969, 'text': '는', 'log_prob': -0.46501055359840393},\n",
       "   {'id': 20187, 'text': ' ML', 'log_prob': -1.3276193141937256},\n",
       "   {'id': 122180, 'text': ' 모델', 'log_prob': -1.1869738101959229},\n",
       "   {'id': 18359, 'text': '을', 'log_prob': -0.4466654658317566},\n",
       "   {'id': 74769, 'text': ' 배', 'log_prob': -2.1362762451171875},\n",
       "   {'id': 101796, 'text': '포', 'log_prob': -0.018625367432832718},\n",
       "   {'id': 11, 'text': ',', 'log_prob': -1.5440503358840942},\n",
       "   {'id': 74769, 'text': ' 배', 'log_prob': -0.46233123540878296},\n",
       "   {'id': 101796, 'text': '포', 'log_prob': -0.00759499566629529},\n",
       "   {'id': 11, 'text': ',', 'log_prob': -0.020348485559225082},\n",
       "   {'id': 124208, 'text': ' 유지', 'log_prob': -0.12379985302686691},\n",
       "   {'id': 11, 'text': ',', 'log_prob': -0.026212312281131744},\n",
       "   {'id': 101824, 'text': ' 및', 'log_prob': -0.23766326904296875},\n",
       "   {'id': 103686, 'text': ' 확', 'log_prob': -0.07277105003595352},\n",
       "   {'id': 41953, 'text': '장', 'log_prob': -0.013010610826313496},\n",
       "   {'id': 48936, 'text': '할', 'log_prob': -0.5216270089149475},\n",
       "   {'id': 29833, 'text': ' 수', 'log_prob': -0.11266973614692688},\n",
       "   {'id': 65621, 'text': ' 있는', 'log_prob': -0.3099815547466278},\n",
       "   {'id': 107375, 'text': ' 플', 'log_prob': -2.388361930847168},\n",
       "   {'id': 124689, 'text': '랫', 'log_prob': -0.010933020152151585},\n",
       "   {'id': 100796, 'text': '', 'log_prob': -0.0011720937909558415},\n",
       "   {'id': 120, 'text': '폼', 'log_prob': -0.010803189128637314},\n",
       "   {'id': 43139, 'text': '으로', 'log_prob': -1.3621023893356323},\n",
       "   {'id': 11, 'text': ',', 'log_prob': -0.27941301465034485},\n",
       "   {'id': 20187, 'text': ' ML', 'log_prob': -0.9479362964630127},\n",
       "   {'id': 122180, 'text': ' 모델', 'log_prob': -0.8277181386947632},\n",
       "   {'id': 18359, 'text': '을', 'log_prob': -0.591353178024292},\n",
       "   {'id': 74769, 'text': ' 배', 'log_prob': -1.2063567638397217},\n",
       "   {'id': 101796, 'text': '포', 'log_prob': -0.012900585308670998},\n",
       "   {'id': 11, 'text': ',', 'log_prob': -1.0722585916519165},\n",
       "   {'id': 74769, 'text': ' 배', 'log_prob': -0.48503613471984863},\n",
       "   {'id': 101796, 'text': '포', 'log_prob': -0.0037410527002066374},\n",
       "   {'id': 11, 'text': ',', 'log_prob': -0.03971916809678078},\n",
       "   {'id': 124208, 'text': ' 유지', 'log_prob': -0.06079144403338432},\n",
       "   {'id': 11, 'text': ',', 'log_prob': -0.04157961159944534},\n",
       "   {'id': 101824, 'text': ' 및', 'log_prob': -0.08872763067483902},\n",
       "   {'id': 103686, 'text': ' 확', 'log_prob': -0.07717927545309067},\n",
       "   {'id': 41953, 'text': '장', 'log_prob': -0.009425426833331585},\n",
       "   {'id': 48936, 'text': '할', 'log_prob': -0.6930586099624634},\n",
       "   {'id': 29833, 'text': ' 수', 'log_prob': -0.05280711129307747},\n",
       "   {'id': 65621, 'text': ' 있는', 'log_prob': -0.5101674199104309},\n",
       "   {'id': 107375, 'text': ' 플', 'log_prob': -1.6552939414978027},\n",
       "   {'id': 124689, 'text': '랫', 'log_prob': -0.0025578183121979237},\n",
       "   {'id': 100796, 'text': '', 'log_prob': -0.0006766413571313024},\n",
       "   {'id': 120, 'text': '폼', 'log_prob': -0.004151536151766777},\n",
       "   {'id': 80052, 'text': '입니다', 'log_prob': -1.2543059587478638},\n",
       "   {'id': 13, 'text': '.', 'log_prob': -0.2371979057788849},\n",
       "   {'id': 24124, 'text': ' AWS', 'log_prob': -1.0117229223251343},\n",
       "   {'id': 328, 'text': ' S', 'log_prob': -0.017972592264413834},\n",
       "   {'id': 15003, 'text': 'agem', 'log_prob': -0.00013243274588603526},\n",
       "   {'id': 4506, 'text': 'aker', 'log_prob': -0.0002138386043952778},\n",
       "   {'id': 16969, 'text': '는', 'log_prob': -0.15597309172153473},\n",
       "   {'id': 20187, 'text': ' ML', 'log_prob': -0.6802984476089478},\n",
       "   {'id': 122180, 'text': ' 모델', 'log_prob': -0.8791500329971313},\n",
       "   {'id': 18359, 'text': '을', 'log_prob': -0.2553038001060486},\n",
       "   {'id': 74769, 'text': ' 배', 'log_prob': -0.22469569742679596},\n",
       "   {'id': 101796, 'text': '포', 'log_prob': -0.0012196014868095517},\n",
       "   {'id': 11, 'text': ',', 'log_prob': -0.039098020642995834},\n",
       "   {'id': 74769, 'text': ' 배', 'log_prob': -0.01856042444705963},\n",
       "   {'id': 101796, 'text': '포', 'log_prob': -0.0010120513616129756},\n",
       "   {'id': 11, 'text': ',', 'log_prob': -0.003522859187796712},\n",
       "   {'id': 124208, 'text': ' 유지', 'log_prob': -0.009170671924948692},\n",
       "   {'id': 11, 'text': ',', 'log_prob': -0.007349004503339529},\n",
       "   {'id': 101824, 'text': ' 및', 'log_prob': -0.011470794677734375},\n",
       "   {'id': 103686, 'text': ' 확', 'log_prob': -0.008369608782231808},\n",
       "   {'id': 41953, 'text': '장', 'log_prob': -0.005883399397134781},\n",
       "   {'id': 48936, 'text': '할', 'log_prob': -0.057523179799318314},\n",
       "   {'id': 29833, 'text': ' 수', 'log_prob': -0.009493445046246052},\n",
       "   {'id': 65621, 'text': ' 있는', 'log_prob': -0.1724676489830017},\n",
       "   {'id': 107375, 'text': ' 플', 'log_prob': -0.11199989914894104},\n",
       "   {'id': 124689, 'text': '랫', 'log_prob': -0.0007898071780800819},\n",
       "   {'id': 100796, 'text': '', 'log_prob': -0.0004326361231505871},\n",
       "   {'id': 120, 'text': '폼', 'log_prob': -0.0020492523908615112},\n",
       "   {'id': 43139, 'text': '으로', 'log_prob': -0.13215434551239014},\n",
       "   {'id': 11, 'text': ',', 'log_prob': -0.12432161718606949},\n",
       "   {'id': 20187, 'text': ' ML', 'log_prob': -0.0860225260257721},\n",
       "   {'id': 122180, 'text': ' 모델', 'log_prob': -0.16686277091503143},\n",
       "   {'id': 18359, 'text': '을', 'log_prob': -0.04160111024975777},\n",
       "   {'id': 74769, 'text': ' 배', 'log_prob': -0.06166201829910278},\n",
       "   {'id': 101796, 'text': '포', 'log_prob': -0.0006281548412516713},\n",
       "   {'id': 11, 'text': ',', 'log_prob': -0.008162000216543674},\n",
       "   {'id': 74769, 'text': ' 배', 'log_prob': -0.015314842574298382},\n",
       "   {'id': 101796, 'text': '포', 'log_prob': -0.0006305375136435032},\n",
       "   {'id': 11, 'text': ',', 'log_prob': -0.002028076210990548},\n",
       "   {'id': 124208, 'text': ' 유지', 'log_prob': -0.011373328045010567},\n",
       "   {'id': 11, 'text': ',', 'log_prob': -0.004431665409356356},\n",
       "   {'id': 101824, 'text': ' 및', 'log_prob': -0.00562845217064023},\n",
       "   {'id': 103686, 'text': ' 확', 'log_prob': -0.004077811259776354},\n",
       "   {'id': 41953, 'text': '장', 'log_prob': -0.005376047920435667},\n",
       "   {'id': 48936, 'text': '할', 'log_prob': -0.022241786122322083},\n",
       "   {'id': 29833, 'text': ' 수', 'log_prob': -0.0018502036109566689},\n",
       "   {'id': 65621, 'text': ' 있는', 'log_prob': -0.33929553627967834},\n",
       "   {'id': 107375, 'text': ' 플', 'log_prob': -0.04063849151134491},\n",
       "   {'id': 124689, 'text': '랫', 'log_prob': -0.0013222293928265572},\n",
       "   {'id': 100796, 'text': '', 'log_prob': -0.0005181877058930695},\n",
       "   {'id': 120, 'text': '폼', 'log_prob': -0.0022921499330550432},\n",
       "   {'id': 80052, 'text': '입니다', 'log_prob': -0.5480639338493347},\n",
       "   {'id': 382, 'text': '.\\n\\n', 'log_prob': -0.5888325572013855},\n",
       "   {'id': 37236, 'text': 'AWS', 'log_prob': -0.2661627233028412},\n",
       "   {'id': 328, 'text': ' S', 'log_prob': -0.009122595191001892},\n",
       "   {'id': 15003, 'text': 'agem', 'log_prob': -0.00021860594279132783},\n",
       "   {'id': 4506, 'text': 'aker', 'log_prob': -0.00015162272029556334},\n",
       "   {'id': 16969, 'text': '는', 'log_prob': -0.30304914712905884},\n",
       "   {'id': 20187, 'text': ' ML', 'log_prob': -1.3851709365844727},\n",
       "   {'id': 65710, 'text': 'aaS', 'log_prob': -0.9009602069854736},\n",
       "   {'id': 18918, 'text': '를', 'log_prob': -0.501883327960968},\n",
       "   {'id': 41820, 'text': ' 사용', 'log_prob': -0.8912913799285889},\n",
       "   {'id': 83290, 'text': '하여', 'log_prob': -0.07551119476556778},\n",
       "   {'id': 20187, 'text': ' ML', 'log_prob': -0.38774925470352173},\n",
       "   {'id': 122180, 'text': ' 모델', 'log_prob': -0.31068316102027893},\n",
       "   {'id': 18359, 'text': '을', 'log_prob': -0.1193295493721962},\n",
       "   {'id': 74769, 'text': ' 배', 'log_prob': -0.297611802816391},\n",
       "   {'id': 101796, 'text': '포', 'log_prob': -0.0018831630004569888},\n",
       "   {'id': 11, 'text': ',', 'log_prob': -0.07833534479141235},\n",
       "   {'id': 74769, 'text': ' 배', 'log_prob': -0.025930320844054222},\n",
       "   {'id': 101796, 'text': '포', 'log_prob': -0.0014073477359488606},\n",
       "   {'id': 11, 'text': ',', 'log_prob': -0.003040693001821637},\n",
       "   {'id': 124208, 'text': ' 유지', 'log_prob': -0.009602665901184082},\n",
       "   {'id': 11, 'text': ',', 'log_prob': -0.0053613451309502125},\n",
       "   {'id': 101824, 'text': ' 및', 'log_prob': -0.017239833250641823},\n",
       "   {'id': 103686, 'text': ' 확', 'log_prob': -0.00993273500353098},\n",
       "   {'id': 41953, 'text': '장', 'log_prob': -0.007240129169076681},\n",
       "   {'id': 48936, 'text': '할', 'log_prob': -0.03572506457567215},\n",
       "   {'id': 29833, 'text': ' 수', 'log_prob': -0.0023283057380467653},\n",
       "   {'id': 65621, 'text': ' 있는', 'log_prob': -0.9245714545249939},\n",
       "   {'id': 107375, 'text': ' 플', 'log_prob': -0.21130898594856262},\n",
       "   {'id': 124689, 'text': '랫', 'log_prob': -0.0012329365126788616},\n",
       "   {'id': 100796, 'text': '', 'log_prob': -0.0005323661607690156},\n",
       "   {'id': 120, 'text': '폼', 'log_prob': -0.003185200970619917},\n",
       "   {'id': 43139, 'text': '으로', 'log_prob': -0.3696941137313843},\n",
       "   {'id': 11, 'text': ',', 'log_prob': -0.08342085033655167},\n",
       "   {'id': 20187, 'text': ' ML', 'log_prob': -0.04622713103890419},\n",
       "   {'id': 122180, 'text': ' 모델', 'log_prob': -0.21754136681556702},\n",
       "   {'id': 18359, 'text': '을', 'log_prob': -0.017074374482035637},\n",
       "   {'id': 74769, 'text': ' 배', 'log_prob': -0.028320778161287308},\n",
       "   {'id': 101796, 'text': '포', 'log_prob': -0.0004383556661196053},\n",
       "   {'id': 11, 'text': ',', 'log_prob': -0.00371718080714345},\n",
       "   {'id': 74769, 'text': ' 배', 'log_prob': -0.017867911607027054},\n",
       "   {'id': 101796, 'text': '포', 'log_prob': -0.00042775063775479794},\n",
       "   {'id': 11, 'text': ',', 'log_prob': -0.0006025406182743609},\n",
       "   {'id': 124208, 'text': ' 유지', 'log_prob': -0.014073767699301243},\n",
       "   {'id': 11, 'text': ',', 'log_prob': -0.0008841419476084411},\n",
       "   {'id': 101824, 'text': ' 및', 'log_prob': -0.0020240312442183495},\n",
       "   {'id': 103686, 'text': ' 확', 'log_prob': -0.002778481226414442},\n",
       "   {'id': 41953, 'text': '장', 'log_prob': -0.005254506133496761},\n",
       "   {'id': 48936, 'text': '할', 'log_prob': -0.009494743309915066},\n",
       "   {'id': 29833, 'text': ' 수', 'log_prob': -0.0008848565630614758},\n",
       "   {'id': 65621, 'text': ' 있는', 'log_prob': -0.07680808007717133},\n",
       "   {'id': 107375, 'text': ' 플', 'log_prob': -0.02826434187591076},\n",
       "   {'id': 124689, 'text': '랫', 'log_prob': -0.0018195039592683315},\n",
       "   {'id': 100796, 'text': '', 'log_prob': -0.00041976699139922857},\n",
       "   {'id': 120, 'text': '폼', 'log_prob': -0.002621073741465807},\n",
       "   {'id': 43139, 'text': '으로', 'log_prob': -0.24612078070640564},\n",
       "   {'id': 11, 'text': ',', 'log_prob': -0.1200377345085144},\n",
       "   {'id': 20187, 'text': ' ML', 'log_prob': -0.041225507855415344},\n",
       "   {'id': 122180, 'text': ' 모델', 'log_prob': -0.1886460781097412},\n",
       "   {'id': 18359, 'text': '을', 'log_prob': -0.010439903475344181},\n",
       "   {'id': 74769, 'text': ' 배', 'log_prob': -0.03651360049843788},\n",
       "   {'id': 101796, 'text': '포', 'log_prob': -0.0004128557338844985},\n",
       "   {'id': 11, 'text': ',', 'log_prob': -0.006520187947899103},\n",
       "   {'id': 74769, 'text': ' 배', 'log_prob': -0.019392071291804314},\n",
       "   {'id': 101796, 'text': '포', 'log_prob': -0.00036745471879839897},\n",
       "   {'id': 11, 'text': ',', 'log_prob': -0.001086359960027039},\n",
       "   {'id': 124208, 'text': ' 유지', 'log_prob': -0.016392908990383148},\n",
       "   {'id': 11, 'text': ',', 'log_prob': -0.0012462714221328497},\n",
       "   {'id': 101824, 'text': ' 및', 'log_prob': -0.0023173640947788954},\n",
       "   {'id': 103686, 'text': ' 확', 'log_prob': -0.0027775303460657597}]}}"
      ]
     },
     "execution_count": 8,
     "metadata": {},
     "output_type": "execute_result"
    }
   ],
   "source": [
    "response"
   ]
  },
  {
   "cell_type": "code",
   "execution_count": 9,
   "id": "36af55fb-1f38-4cd1-8850-f488a38ce3f5",
   "metadata": {},
   "outputs": [
    {
     "name": "stdout",
     "output_type": "stream",
     "text": [
      "dict_keys(['generated_text', 'details'])\n",
      "\n",
      "AWS Sagemaker는 AWS의 cloud-based machine learning (ML)aaS (Application Service for Machine Learning) 플랫폼입니다. AWS Sagemaker는 MLaaS를 제공하는 AWS의 cloud-based ML 플랫폼 중 하나입니다. AWS Sagemaker는 MLaaS를 사용하여 ML 모델을 배포, 배포, 유지, 및 확장할 수 있는 플랫폼입니다. \n",
      "\n",
      "AWS Sagemaker는 ML 모델을 배포, 배포, 유지, 및 확장할 수 있는 플랫폼으로, ML 모델을 배포, 배포, 유지, 및 확장할 수 있는 플랫폼입니다. AWS Sagemaker는 ML 모델을 배포, 배포, 유지, 및 확장할 수 있는 플랫폼으로, ML 모델을 배포, 배포, 유지, 및 확장할 수 있는 플랫폼입니다.\n",
      "\n",
      "AWS Sagemaker는 MLaaS를 사용하여 ML 모델을 배포, 배포, 유지, 및 확장할 수 있는 플랫폼으로, ML 모델을 배포, 배포, 유지, 및 확장할 수 있는 플랫폼으로, ML 모델을 배포, 배포, 유지, 및 확\n"
     ]
    }
   ],
   "source": [
    "print(response.keys())\n",
    "print()\n",
    "print(response['generated_text'])"
   ]
  },
  {
   "cell_type": "markdown",
   "id": "0d6c8cc1-0ab6-4373-865a-7d0cab901897",
   "metadata": {},
   "source": [
    "response의 결과를 보면, 2개의 카값을 가진다. `generated_text`, `details`\n",
    "- `generated_text`: 우리가 주로 원하던 정답이다. \n",
    "- `details`: 우리가 추론 파라미터에 `'details': True` 설정값을 주었기 때문에 생성된 자세한 내용이다.\n",
    "  - Token ID, Token Text, Log_prob를 상세하게 볼 수 있다. --> **아~ 토큰이 이렇게 나누어 져 있구나, 확률값은 이정도 값이구나.. 하는 공부가 될것이다.**\n",
    "  - 모든 토큰에 대한 log_prob 중에서 해당 토큰이 선택 되었고 (선택 전략에 따라 가장 높은값), 이 토큰의 확률의 로그값이다.\n",
    "  - Ground Truth와는 다른 log_prob는 Distillation에도 사용이 된다."
   ]
  },
  {
   "cell_type": "markdown",
   "id": "737d494d-bada-45da-baad-4f5514404ba9",
   "metadata": {},
   "source": [
    "## 응답값 반복 문제"
   ]
  },
  {
   "cell_type": "markdown",
   "id": "e64edb18-9f98-476f-a90c-2ce237512db6",
   "metadata": {},
   "source": [
    "그런데, `모델 응답`의 값을 살펴 보면 조금 이상하다. `... 모델을 배포, 배포, 유지, 및 확장할수 있는 플랫폼으로 ML 모델을 배포, 배포, 유지, 및 ....`\n",
    "> 응? 뭐지? 이상한데?\n",
    "\n",
    "뭔가 모르게 단어도 그렇고, 문장도 그렇게 계속 반복 되는 것 같다. 동일한 문장 전체가 반복되기도 한다. \n",
    "이러한 현상은, Lllama 등 오픈소스 모델에서 자주 발생하는 현상으로, Llama는 이러한 현상을 방지하기 위한 설정값들을 제공하고 있다. \n",
    "- 문장의 반복 : `eos_token 설정` - 말이 끝났으면 더이상 쓸데없는 말 만들지 말고 종료해라!\n",
    "- 반복 페널티 : `repetition_penalty` - 트랜스포머의 특징상 다음단어를 선택할 때 동일하거나 유사한 단어가 선택될 확률이 높은 데, 동일한 선택이 있을 경우 확률을 낮추는 페널티텀을 추가하고 이것의 비율을 지정한다. `1.0`이 기준이고 1.0보다 크면 페널티를 준다. 보통 `1.2` 사용\n",
    "- do_sample : 마찬가지로 다음단어가 동일하게 선택하지 말고, 확률 기반으로 재샘플링 하는 방식을 실행 한다. (어라. 이거 particle filter에서 사용하던 알고리즘.) 당연하게도 변수를 만드는 부분이므로 temperature와 연관이 높다.\n"
   ]
  },
  {
   "cell_type": "code",
   "execution_count": 10,
   "id": "0cfca19e-ed93-4878-a72b-1002b1dfe9c6",
   "metadata": {},
   "outputs": [],
   "source": [
    "# 다시 파라미터를 재정비 한다. # EOS Token이 없으면, 문장을 끝내지 않고 반복함.\n",
    "# 파라미터 정비 후 payload 재작성\n",
    "generation_config = {\n",
    "    \"max_new_tokens\": 256,\n",
    "    \"eos_token_id\": 128009,          # Llama 3.2 공식 EOS 토큰[1][3]\n",
    "    \"pad_token_id\": 128009,          # 패딩 토큰 통일[4]\n",
    "    \"repetition_penalty\": 1.2,       # 반복 문구 억제[3]\n",
    "    \"temperature\": 0.6,    \n",
    "    \"do_sample\": True,\n",
    "    \"top_p\": 0.9,\n",
    "    'details': True,\n",
    "}\n",
    "\n",
    "prompt_payload = {\n",
    "    'inputs':prompt,\n",
    "    'parameters': generation_config\n",
    "}"
   ]
  },
  {
   "cell_type": "code",
   "execution_count": 11,
   "id": "2d30b01b-aa4a-4ba8-9b4f-a5d81e13dd7d",
   "metadata": {},
   "outputs": [],
   "source": [
    "response = predictor.predict(prompt_payload)"
   ]
  },
  {
   "cell_type": "code",
   "execution_count": 12,
   "id": "eef777db-367d-4fbb-9126-257031e73582",
   "metadata": {},
   "outputs": [
    {
     "name": "stdout",
     "output_type": "stream",
     "text": [
      "dict_keys(['generated_text', 'details'])\n",
      "---\n",
      "AWS Sagemaker는 AWS의 AI 및 machine learning을 위한 고성능 인프라를 제공하는 cloud-based platform입니다.它은 대규모-scale machine learning (ML)aaS(아이티드 서비스)와 클라우dscape에서 ML model을 배포, Runs 및 manages 하도록 도움을 줄 수 있습니다.\n",
      "\n",
      "Sagemaker는 다음과 같은feature가 있습니다.\n",
      "- **대규모-scale ML** : AWS Sagemaker에서는 대규모-scale ML 환경을 구축할 때부터 시작하여 다양한 ML 기법을 사용하여 모델을 배포하고 Run을 관리할 수 있습니다. \n",
      "\n",
      "- **클라우dTuner**: AWS Sagemaker에는 클라우dTuner API를 통해 CLT (Cloud Tuner)는 CLI (Command Line Interface)를 이용하여 ML Model을 Tuning 하기위한 최적화 전략과 시트를 생성합니다. \n",
      "\n",
      "- **Model Store**: AWS Sagemaker Model Store는 AWS CloudWatch Data Lake Hadoop에モデル lưu trữ할 수 있는 확장된 storage service입니다. \n",
      "\n",
      "- **Containerization**: AWS Sagemaker provides pre-built container images for popular frameworks such as TensorFlow and PyTorch. \n",
      "\n",
      "- **Environment Variables**: AWS Sagem\n"
     ]
    }
   ],
   "source": [
    "print(response.keys())\n",
    "print(\"---\")\n",
    "print(response['generated_text'])\n"
   ]
  },
  {
   "cell_type": "code",
   "execution_count": null,
   "id": "cf7ab4cf-4dd3-4a54-9497-128543f8e2f9",
   "metadata": {},
   "outputs": [],
   "source": []
  }
 ],
 "metadata": {
  "kernelspec": {
   "display_name": "Python 3 (ipykernel)",
   "language": "python",
   "name": "python3"
  },
  "language_info": {
   "codemirror_mode": {
    "name": "ipython",
    "version": 3
   },
   "file_extension": ".py",
   "mimetype": "text/x-python",
   "name": "python",
   "nbconvert_exporter": "python",
   "pygments_lexer": "ipython3",
   "version": "3.11.11"
  }
 },
 "nbformat": 4,
 "nbformat_minor": 5
}
